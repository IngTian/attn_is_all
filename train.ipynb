{
 "cells": [
  {
   "cell_type": "markdown",
   "metadata": {},
   "source": [
    "# Env Preparation"
   ]
  },
  {
   "cell_type": "markdown",
   "metadata": {},
   "source": [
    "## Install Dependencies"
   ]
  },
  {
   "cell_type": "code",
   "execution_count": null,
   "metadata": {},
   "outputs": [
    {
     "name": "stdout",
     "output_type": "stream",
     "text": [
      "Requirement already satisfied: aiohappyeyeballs==2.4.6 in /home/ingtian/miniconda3/envs/notebook_server_39/lib/python3.9/site-packages (from -r requirements.txt (line 1)) (2.4.6)\n",
      "Requirement already satisfied: aiohttp==3.11.13 in /home/ingtian/miniconda3/envs/notebook_server_39/lib/python3.9/site-packages (from -r requirements.txt (line 2)) (3.11.13)\n",
      "Requirement already satisfied: aiosignal==1.3.2 in /home/ingtian/miniconda3/envs/notebook_server_39/lib/python3.9/site-packages (from -r requirements.txt (line 3)) (1.3.2)\n",
      "Requirement already satisfied: anyio==4.8.0 in /home/ingtian/miniconda3/envs/notebook_server_39/lib/python3.9/site-packages (from -r requirements.txt (line 4)) (4.8.0)\n",
      "Requirement already satisfied: argon2-cffi==23.1.0 in /home/ingtian/miniconda3/envs/notebook_server_39/lib/python3.9/site-packages (from -r requirements.txt (line 5)) (23.1.0)\n",
      "Requirement already satisfied: argon2-cffi-bindings==21.2.0 in /home/ingtian/miniconda3/envs/notebook_server_39/lib/python3.9/site-packages (from -r requirements.txt (line 6)) (21.2.0)\n",
      "Requirement already satisfied: arrow==1.3.0 in /home/ingtian/miniconda3/envs/notebook_server_39/lib/python3.9/site-packages (from -r requirements.txt (line 7)) (1.3.0)\n",
      "Requirement already satisfied: asttokens==3.0.0 in /home/ingtian/miniconda3/envs/notebook_server_39/lib/python3.9/site-packages (from -r requirements.txt (line 8)) (3.0.0)\n",
      "Requirement already satisfied: async-lru==2.0.4 in /home/ingtian/miniconda3/envs/notebook_server_39/lib/python3.9/site-packages (from -r requirements.txt (line 9)) (2.0.4)\n",
      "Requirement already satisfied: async-timeout==5.0.1 in /home/ingtian/miniconda3/envs/notebook_server_39/lib/python3.9/site-packages (from -r requirements.txt (line 10)) (5.0.1)\n",
      "Requirement already satisfied: attrs==25.1.0 in /home/ingtian/miniconda3/envs/notebook_server_39/lib/python3.9/site-packages (from -r requirements.txt (line 11)) (25.1.0)\n",
      "Requirement already satisfied: babel==2.17.0 in /home/ingtian/miniconda3/envs/notebook_server_39/lib/python3.9/site-packages (from -r requirements.txt (line 12)) (2.17.0)\n",
      "Requirement already satisfied: beautifulsoup4==4.13.3 in /home/ingtian/miniconda3/envs/notebook_server_39/lib/python3.9/site-packages (from -r requirements.txt (line 13)) (4.13.3)\n",
      "Requirement already satisfied: bleach==6.2.0 in /home/ingtian/miniconda3/envs/notebook_server_39/lib/python3.9/site-packages (from -r requirements.txt (line 14)) (6.2.0)\n",
      "Requirement already satisfied: certifi==2025.1.31 in /home/ingtian/miniconda3/envs/notebook_server_39/lib/python3.9/site-packages (from -r requirements.txt (line 15)) (2025.1.31)\n",
      "Requirement already satisfied: cffi==1.17.1 in /home/ingtian/miniconda3/envs/notebook_server_39/lib/python3.9/site-packages (from -r requirements.txt (line 16)) (1.17.1)\n",
      "Requirement already satisfied: charset-normalizer==3.4.1 in /home/ingtian/miniconda3/envs/notebook_server_39/lib/python3.9/site-packages (from -r requirements.txt (line 17)) (3.4.1)\n",
      "Requirement already satisfied: comm==0.2.2 in /home/ingtian/miniconda3/envs/notebook_server_39/lib/python3.9/site-packages (from -r requirements.txt (line 18)) (0.2.2)\n",
      "Requirement already satisfied: datasets==3.3.2 in /home/ingtian/miniconda3/envs/notebook_server_39/lib/python3.9/site-packages (from -r requirements.txt (line 19)) (3.3.2)\n",
      "Requirement already satisfied: debugpy==1.8.12 in /home/ingtian/miniconda3/envs/notebook_server_39/lib/python3.9/site-packages (from -r requirements.txt (line 20)) (1.8.12)\n",
      "Requirement already satisfied: decorator==5.2.0 in /home/ingtian/miniconda3/envs/notebook_server_39/lib/python3.9/site-packages (from -r requirements.txt (line 21)) (5.2.0)\n",
      "Requirement already satisfied: defusedxml==0.7.1 in /home/ingtian/miniconda3/envs/notebook_server_39/lib/python3.9/site-packages (from -r requirements.txt (line 22)) (0.7.1)\n",
      "Requirement already satisfied: dill==0.3.8 in /home/ingtian/miniconda3/envs/notebook_server_39/lib/python3.9/site-packages (from -r requirements.txt (line 23)) (0.3.8)\n",
      "Requirement already satisfied: exceptiongroup==1.2.2 in /home/ingtian/miniconda3/envs/notebook_server_39/lib/python3.9/site-packages (from -r requirements.txt (line 24)) (1.2.2)\n",
      "Requirement already satisfied: executing==2.2.0 in /home/ingtian/miniconda3/envs/notebook_server_39/lib/python3.9/site-packages (from -r requirements.txt (line 25)) (2.2.0)\n",
      "Requirement already satisfied: fastjsonschema==2.21.1 in /home/ingtian/miniconda3/envs/notebook_server_39/lib/python3.9/site-packages (from -r requirements.txt (line 26)) (2.21.1)\n",
      "Requirement already satisfied: filelock==3.17.0 in /home/ingtian/miniconda3/envs/notebook_server_39/lib/python3.9/site-packages (from -r requirements.txt (line 27)) (3.17.0)\n",
      "Requirement already satisfied: fqdn==1.5.1 in /home/ingtian/miniconda3/envs/notebook_server_39/lib/python3.9/site-packages (from -r requirements.txt (line 28)) (1.5.1)\n",
      "Requirement already satisfied: frozenlist==1.5.0 in /home/ingtian/miniconda3/envs/notebook_server_39/lib/python3.9/site-packages (from -r requirements.txt (line 29)) (1.5.0)\n",
      "Requirement already satisfied: fsspec==2024.12.0 in /home/ingtian/miniconda3/envs/notebook_server_39/lib/python3.9/site-packages (from -r requirements.txt (line 30)) (2024.12.0)\n",
      "Requirement already satisfied: h11==0.14.0 in /home/ingtian/miniconda3/envs/notebook_server_39/lib/python3.9/site-packages (from -r requirements.txt (line 31)) (0.14.0)\n",
      "Requirement already satisfied: httpcore==1.0.7 in /home/ingtian/miniconda3/envs/notebook_server_39/lib/python3.9/site-packages (from -r requirements.txt (line 32)) (1.0.7)\n",
      "Requirement already satisfied: httpx==0.28.1 in /home/ingtian/miniconda3/envs/notebook_server_39/lib/python3.9/site-packages (from -r requirements.txt (line 33)) (0.28.1)\n",
      "Requirement already satisfied: huggingface-hub==0.29.1 in /home/ingtian/miniconda3/envs/notebook_server_39/lib/python3.9/site-packages (from -r requirements.txt (line 34)) (0.29.1)\n",
      "Requirement already satisfied: idna==3.10 in /home/ingtian/miniconda3/envs/notebook_server_39/lib/python3.9/site-packages (from -r requirements.txt (line 35)) (3.10)\n",
      "Requirement already satisfied: importlib_metadata==8.6.1 in /home/ingtian/miniconda3/envs/notebook_server_39/lib/python3.9/site-packages (from -r requirements.txt (line 36)) (8.6.1)\n",
      "Requirement already satisfied: ipykernel==6.29.5 in /home/ingtian/miniconda3/envs/notebook_server_39/lib/python3.9/site-packages (from -r requirements.txt (line 37)) (6.29.5)\n",
      "Requirement already satisfied: ipython==8.18.1 in /home/ingtian/miniconda3/envs/notebook_server_39/lib/python3.9/site-packages (from -r requirements.txt (line 38)) (8.18.1)\n",
      "Requirement already satisfied: ipywidgets==8.1.5 in /home/ingtian/miniconda3/envs/notebook_server_39/lib/python3.9/site-packages (from -r requirements.txt (line 39)) (8.1.5)\n",
      "Requirement already satisfied: isoduration==20.11.0 in /home/ingtian/miniconda3/envs/notebook_server_39/lib/python3.9/site-packages (from -r requirements.txt (line 40)) (20.11.0)\n",
      "Requirement already satisfied: jedi==0.19.2 in /home/ingtian/miniconda3/envs/notebook_server_39/lib/python3.9/site-packages (from -r requirements.txt (line 41)) (0.19.2)\n",
      "Requirement already satisfied: Jinja2==3.1.5 in /home/ingtian/miniconda3/envs/notebook_server_39/lib/python3.9/site-packages (from -r requirements.txt (line 42)) (3.1.5)\n",
      "Requirement already satisfied: json5==0.10.0 in /home/ingtian/miniconda3/envs/notebook_server_39/lib/python3.9/site-packages (from -r requirements.txt (line 43)) (0.10.0)\n",
      "Requirement already satisfied: jsonpointer==3.0.0 in /home/ingtian/miniconda3/envs/notebook_server_39/lib/python3.9/site-packages (from -r requirements.txt (line 44)) (3.0.0)\n",
      "Requirement already satisfied: jsonschema==4.23.0 in /home/ingtian/miniconda3/envs/notebook_server_39/lib/python3.9/site-packages (from -r requirements.txt (line 45)) (4.23.0)\n",
      "Requirement already satisfied: jsonschema-specifications==2024.10.1 in /home/ingtian/miniconda3/envs/notebook_server_39/lib/python3.9/site-packages (from -r requirements.txt (line 46)) (2024.10.1)\n",
      "Requirement already satisfied: jupyter-events==0.12.0 in /home/ingtian/miniconda3/envs/notebook_server_39/lib/python3.9/site-packages (from -r requirements.txt (line 47)) (0.12.0)\n",
      "Requirement already satisfied: jupyter-lsp==2.2.5 in /home/ingtian/miniconda3/envs/notebook_server_39/lib/python3.9/site-packages (from -r requirements.txt (line 48)) (2.2.5)\n",
      "Requirement already satisfied: jupyter_client==8.6.3 in /home/ingtian/miniconda3/envs/notebook_server_39/lib/python3.9/site-packages (from -r requirements.txt (line 49)) (8.6.3)\n",
      "Requirement already satisfied: jupyter_core==5.7.2 in /home/ingtian/miniconda3/envs/notebook_server_39/lib/python3.9/site-packages (from -r requirements.txt (line 50)) (5.7.2)\n",
      "Requirement already satisfied: jupyter_server==2.15.0 in /home/ingtian/miniconda3/envs/notebook_server_39/lib/python3.9/site-packages (from -r requirements.txt (line 51)) (2.15.0)\n",
      "Requirement already satisfied: jupyter_server_terminals==0.5.3 in /home/ingtian/miniconda3/envs/notebook_server_39/lib/python3.9/site-packages (from -r requirements.txt (line 52)) (0.5.3)\n",
      "Requirement already satisfied: jupyterlab==4.3.5 in /home/ingtian/miniconda3/envs/notebook_server_39/lib/python3.9/site-packages (from -r requirements.txt (line 53)) (4.3.5)\n",
      "Requirement already satisfied: jupyterlab_pygments==0.3.0 in /home/ingtian/miniconda3/envs/notebook_server_39/lib/python3.9/site-packages (from -r requirements.txt (line 54)) (0.3.0)\n",
      "Requirement already satisfied: jupyterlab_server==2.27.3 in /home/ingtian/miniconda3/envs/notebook_server_39/lib/python3.9/site-packages (from -r requirements.txt (line 55)) (2.27.3)\n",
      "Requirement already satisfied: jupyterlab_widgets==3.0.13 in /home/ingtian/miniconda3/envs/notebook_server_39/lib/python3.9/site-packages (from -r requirements.txt (line 56)) (3.0.13)\n",
      "Requirement already satisfied: MarkupSafe==3.0.2 in /home/ingtian/miniconda3/envs/notebook_server_39/lib/python3.9/site-packages (from -r requirements.txt (line 57)) (3.0.2)\n",
      "Requirement already satisfied: matplotlib-inline==0.1.7 in /home/ingtian/miniconda3/envs/notebook_server_39/lib/python3.9/site-packages (from -r requirements.txt (line 58)) (0.1.7)\n",
      "Requirement already satisfied: mistune==3.1.2 in /home/ingtian/miniconda3/envs/notebook_server_39/lib/python3.9/site-packages (from -r requirements.txt (line 59)) (3.1.2)\n",
      "Requirement already satisfied: mpmath==1.3.0 in /home/ingtian/miniconda3/envs/notebook_server_39/lib/python3.9/site-packages (from -r requirements.txt (line 60)) (1.3.0)\n",
      "Requirement already satisfied: multidict==6.1.0 in /home/ingtian/miniconda3/envs/notebook_server_39/lib/python3.9/site-packages (from -r requirements.txt (line 61)) (6.1.0)\n",
      "Requirement already satisfied: multiprocess==0.70.16 in /home/ingtian/miniconda3/envs/notebook_server_39/lib/python3.9/site-packages (from -r requirements.txt (line 62)) (0.70.16)\n",
      "Requirement already satisfied: nbclient==0.10.2 in /home/ingtian/miniconda3/envs/notebook_server_39/lib/python3.9/site-packages (from -r requirements.txt (line 63)) (0.10.2)\n",
      "Requirement already satisfied: nbconvert==7.16.6 in /home/ingtian/miniconda3/envs/notebook_server_39/lib/python3.9/site-packages (from -r requirements.txt (line 64)) (7.16.6)\n",
      "Requirement already satisfied: nbformat==5.10.4 in /home/ingtian/miniconda3/envs/notebook_server_39/lib/python3.9/site-packages (from -r requirements.txt (line 65)) (5.10.4)\n",
      "Requirement already satisfied: nest-asyncio==1.6.0 in /home/ingtian/miniconda3/envs/notebook_server_39/lib/python3.9/site-packages (from -r requirements.txt (line 66)) (1.6.0)\n",
      "Requirement already satisfied: networkx==3.2.1 in /home/ingtian/miniconda3/envs/notebook_server_39/lib/python3.9/site-packages (from -r requirements.txt (line 67)) (3.2.1)\n",
      "Requirement already satisfied: notebook==7.3.2 in /home/ingtian/miniconda3/envs/notebook_server_39/lib/python3.9/site-packages (from -r requirements.txt (line 68)) (7.3.2)\n",
      "Requirement already satisfied: notebook_shim==0.2.4 in /home/ingtian/miniconda3/envs/notebook_server_39/lib/python3.9/site-packages (from -r requirements.txt (line 69)) (0.2.4)\n",
      "Requirement already satisfied: numpy==2.0.2 in /home/ingtian/miniconda3/envs/notebook_server_39/lib/python3.9/site-packages (from -r requirements.txt (line 70)) (2.0.2)\n",
      "Requirement already satisfied: nvidia-cublas-cu12==12.4.5.8 in /home/ingtian/miniconda3/envs/notebook_server_39/lib/python3.9/site-packages (from -r requirements.txt (line 71)) (12.4.5.8)\n",
      "Requirement already satisfied: nvidia-cuda-cupti-cu12==12.4.127 in /home/ingtian/miniconda3/envs/notebook_server_39/lib/python3.9/site-packages (from -r requirements.txt (line 72)) (12.4.127)\n",
      "Requirement already satisfied: nvidia-cuda-nvrtc-cu12==12.4.127 in /home/ingtian/miniconda3/envs/notebook_server_39/lib/python3.9/site-packages (from -r requirements.txt (line 73)) (12.4.127)\n",
      "Requirement already satisfied: nvidia-cuda-runtime-cu12==12.4.127 in /home/ingtian/miniconda3/envs/notebook_server_39/lib/python3.9/site-packages (from -r requirements.txt (line 74)) (12.4.127)\n",
      "Requirement already satisfied: nvidia-cudnn-cu12==9.1.0.70 in /home/ingtian/miniconda3/envs/notebook_server_39/lib/python3.9/site-packages (from -r requirements.txt (line 75)) (9.1.0.70)\n",
      "Requirement already satisfied: nvidia-cufft-cu12==11.2.1.3 in /home/ingtian/miniconda3/envs/notebook_server_39/lib/python3.9/site-packages (from -r requirements.txt (line 76)) (11.2.1.3)\n",
      "Requirement already satisfied: nvidia-curand-cu12==10.3.5.147 in /home/ingtian/miniconda3/envs/notebook_server_39/lib/python3.9/site-packages (from -r requirements.txt (line 77)) (10.3.5.147)\n",
      "Requirement already satisfied: nvidia-cusolver-cu12==11.6.1.9 in /home/ingtian/miniconda3/envs/notebook_server_39/lib/python3.9/site-packages (from -r requirements.txt (line 78)) (11.6.1.9)\n",
      "Requirement already satisfied: nvidia-cusparse-cu12==12.3.1.170 in /home/ingtian/miniconda3/envs/notebook_server_39/lib/python3.9/site-packages (from -r requirements.txt (line 79)) (12.3.1.170)\n",
      "Requirement already satisfied: nvidia-cusparselt-cu12==0.6.2 in /home/ingtian/miniconda3/envs/notebook_server_39/lib/python3.9/site-packages (from -r requirements.txt (line 80)) (0.6.2)\n",
      "Requirement already satisfied: nvidia-nccl-cu12==2.21.5 in /home/ingtian/miniconda3/envs/notebook_server_39/lib/python3.9/site-packages (from -r requirements.txt (line 81)) (2.21.5)\n",
      "Requirement already satisfied: nvidia-nvjitlink-cu12==12.4.127 in /home/ingtian/miniconda3/envs/notebook_server_39/lib/python3.9/site-packages (from -r requirements.txt (line 82)) (12.4.127)\n",
      "Requirement already satisfied: nvidia-nvtx-cu12==12.4.127 in /home/ingtian/miniconda3/envs/notebook_server_39/lib/python3.9/site-packages (from -r requirements.txt (line 83)) (12.4.127)\n",
      "Requirement already satisfied: overrides==7.7.0 in /home/ingtian/miniconda3/envs/notebook_server_39/lib/python3.9/site-packages (from -r requirements.txt (line 84)) (7.7.0)\n",
      "Requirement already satisfied: packaging==24.2 in /home/ingtian/miniconda3/envs/notebook_server_39/lib/python3.9/site-packages (from -r requirements.txt (line 85)) (24.2)\n",
      "Requirement already satisfied: pandas==2.2.3 in /home/ingtian/miniconda3/envs/notebook_server_39/lib/python3.9/site-packages (from -r requirements.txt (line 86)) (2.2.3)\n",
      "Requirement already satisfied: pandocfilters==1.5.1 in /home/ingtian/miniconda3/envs/notebook_server_39/lib/python3.9/site-packages (from -r requirements.txt (line 87)) (1.5.1)\n",
      "Requirement already satisfied: parso==0.8.4 in /home/ingtian/miniconda3/envs/notebook_server_39/lib/python3.9/site-packages (from -r requirements.txt (line 88)) (0.8.4)\n",
      "Requirement already satisfied: pexpect==4.9.0 in /home/ingtian/miniconda3/envs/notebook_server_39/lib/python3.9/site-packages (from -r requirements.txt (line 89)) (4.9.0)\n",
      "Requirement already satisfied: platformdirs==4.3.6 in /home/ingtian/miniconda3/envs/notebook_server_39/lib/python3.9/site-packages (from -r requirements.txt (line 90)) (4.3.6)\n",
      "Requirement already satisfied: prometheus_client==0.21.1 in /home/ingtian/miniconda3/envs/notebook_server_39/lib/python3.9/site-packages (from -r requirements.txt (line 91)) (0.21.1)\n",
      "Requirement already satisfied: prompt_toolkit==3.0.50 in /home/ingtian/miniconda3/envs/notebook_server_39/lib/python3.9/site-packages (from -r requirements.txt (line 92)) (3.0.50)\n",
      "Requirement already satisfied: propcache==0.3.0 in /home/ingtian/miniconda3/envs/notebook_server_39/lib/python3.9/site-packages (from -r requirements.txt (line 93)) (0.3.0)\n",
      "Requirement already satisfied: psutil==7.0.0 in /home/ingtian/miniconda3/envs/notebook_server_39/lib/python3.9/site-packages (from -r requirements.txt (line 94)) (7.0.0)\n",
      "Requirement already satisfied: ptyprocess==0.7.0 in /home/ingtian/miniconda3/envs/notebook_server_39/lib/python3.9/site-packages (from -r requirements.txt (line 95)) (0.7.0)\n",
      "Requirement already satisfied: pure_eval==0.2.3 in /home/ingtian/miniconda3/envs/notebook_server_39/lib/python3.9/site-packages (from -r requirements.txt (line 96)) (0.2.3)\n",
      "Requirement already satisfied: pyarrow==19.0.1 in /home/ingtian/miniconda3/envs/notebook_server_39/lib/python3.9/site-packages (from -r requirements.txt (line 97)) (19.0.1)\n",
      "Requirement already satisfied: pycparser==2.22 in /home/ingtian/miniconda3/envs/notebook_server_39/lib/python3.9/site-packages (from -r requirements.txt (line 98)) (2.22)\n",
      "Requirement already satisfied: Pygments==2.19.1 in /home/ingtian/miniconda3/envs/notebook_server_39/lib/python3.9/site-packages (from -r requirements.txt (line 99)) (2.19.1)\n",
      "Requirement already satisfied: python-dateutil==2.9.0.post0 in /home/ingtian/miniconda3/envs/notebook_server_39/lib/python3.9/site-packages (from -r requirements.txt (line 100)) (2.9.0.post0)\n",
      "Requirement already satisfied: python-json-logger==3.2.1 in /home/ingtian/miniconda3/envs/notebook_server_39/lib/python3.9/site-packages (from -r requirements.txt (line 101)) (3.2.1)\n",
      "Requirement already satisfied: pytz==2025.1 in /home/ingtian/miniconda3/envs/notebook_server_39/lib/python3.9/site-packages (from -r requirements.txt (line 102)) (2025.1)\n",
      "Requirement already satisfied: PyYAML==6.0.2 in /home/ingtian/miniconda3/envs/notebook_server_39/lib/python3.9/site-packages (from -r requirements.txt (line 103)) (6.0.2)\n",
      "Requirement already satisfied: pyzmq==26.2.1 in /home/ingtian/miniconda3/envs/notebook_server_39/lib/python3.9/site-packages (from -r requirements.txt (line 104)) (26.2.1)\n",
      "Requirement already satisfied: referencing==0.36.2 in /home/ingtian/miniconda3/envs/notebook_server_39/lib/python3.9/site-packages (from -r requirements.txt (line 105)) (0.36.2)\n",
      "Requirement already satisfied: regex==2024.11.6 in /home/ingtian/miniconda3/envs/notebook_server_39/lib/python3.9/site-packages (from -r requirements.txt (line 106)) (2024.11.6)\n",
      "Requirement already satisfied: requests==2.32.3 in /home/ingtian/miniconda3/envs/notebook_server_39/lib/python3.9/site-packages (from -r requirements.txt (line 107)) (2.32.3)\n",
      "Requirement already satisfied: rfc3339-validator==0.1.4 in /home/ingtian/miniconda3/envs/notebook_server_39/lib/python3.9/site-packages (from -r requirements.txt (line 108)) (0.1.4)\n",
      "Requirement already satisfied: rfc3986-validator==0.1.1 in /home/ingtian/miniconda3/envs/notebook_server_39/lib/python3.9/site-packages (from -r requirements.txt (line 109)) (0.1.1)\n",
      "Requirement already satisfied: rpds-py==0.23.1 in /home/ingtian/miniconda3/envs/notebook_server_39/lib/python3.9/site-packages (from -r requirements.txt (line 110)) (0.23.1)\n",
      "Requirement already satisfied: ruff==0.9.7 in /home/ingtian/miniconda3/envs/notebook_server_39/lib/python3.9/site-packages (from -r requirements.txt (line 111)) (0.9.7)\n",
      "Requirement already satisfied: safetensors==0.5.2 in /home/ingtian/miniconda3/envs/notebook_server_39/lib/python3.9/site-packages (from -r requirements.txt (line 112)) (0.5.2)\n",
      "Requirement already satisfied: Send2Trash==1.8.3 in /home/ingtian/miniconda3/envs/notebook_server_39/lib/python3.9/site-packages (from -r requirements.txt (line 113)) (1.8.3)\n",
      "Requirement already satisfied: six==1.17.0 in /home/ingtian/miniconda3/envs/notebook_server_39/lib/python3.9/site-packages (from -r requirements.txt (line 114)) (1.17.0)\n",
      "Requirement already satisfied: sniffio==1.3.1 in /home/ingtian/miniconda3/envs/notebook_server_39/lib/python3.9/site-packages (from -r requirements.txt (line 115)) (1.3.1)\n",
      "Requirement already satisfied: soupsieve==2.6 in /home/ingtian/miniconda3/envs/notebook_server_39/lib/python3.9/site-packages (from -r requirements.txt (line 116)) (2.6)\n",
      "Requirement already satisfied: stack-data==0.6.3 in /home/ingtian/miniconda3/envs/notebook_server_39/lib/python3.9/site-packages (from -r requirements.txt (line 117)) (0.6.3)\n",
      "Requirement already satisfied: sympy==1.13.1 in /home/ingtian/miniconda3/envs/notebook_server_39/lib/python3.9/site-packages (from -r requirements.txt (line 118)) (1.13.1)\n",
      "Requirement already satisfied: terminado==0.18.1 in /home/ingtian/miniconda3/envs/notebook_server_39/lib/python3.9/site-packages (from -r requirements.txt (line 119)) (0.18.1)\n",
      "Requirement already satisfied: tinycss2==1.4.0 in /home/ingtian/miniconda3/envs/notebook_server_39/lib/python3.9/site-packages (from -r requirements.txt (line 120)) (1.4.0)\n",
      "Requirement already satisfied: tokenizers==0.21.0 in /home/ingtian/miniconda3/envs/notebook_server_39/lib/python3.9/site-packages (from -r requirements.txt (line 121)) (0.21.0)\n",
      "Requirement already satisfied: tomli==2.2.1 in /home/ingtian/miniconda3/envs/notebook_server_39/lib/python3.9/site-packages (from -r requirements.txt (line 122)) (2.2.1)\n",
      "Requirement already satisfied: torch==2.6.0 in /home/ingtian/miniconda3/envs/notebook_server_39/lib/python3.9/site-packages (from -r requirements.txt (line 123)) (2.6.0)\n",
      "Requirement already satisfied: torchtext==0.18.0 in /home/ingtian/miniconda3/envs/notebook_server_39/lib/python3.9/site-packages (from -r requirements.txt (line 124)) (0.18.0)\n",
      "Requirement already satisfied: tornado==6.4.2 in /home/ingtian/miniconda3/envs/notebook_server_39/lib/python3.9/site-packages (from -r requirements.txt (line 125)) (6.4.2)\n",
      "Requirement already satisfied: tqdm==4.67.1 in /home/ingtian/miniconda3/envs/notebook_server_39/lib/python3.9/site-packages (from -r requirements.txt (line 126)) (4.67.1)\n",
      "Requirement already satisfied: traitlets==5.14.3 in /home/ingtian/miniconda3/envs/notebook_server_39/lib/python3.9/site-packages (from -r requirements.txt (line 127)) (5.14.3)\n",
      "Requirement already satisfied: transformers==4.49.0 in /home/ingtian/miniconda3/envs/notebook_server_39/lib/python3.9/site-packages (from -r requirements.txt (line 128)) (4.49.0)\n",
      "Requirement already satisfied: triton==3.2.0 in /home/ingtian/miniconda3/envs/notebook_server_39/lib/python3.9/site-packages (from -r requirements.txt (line 129)) (3.2.0)\n",
      "Requirement already satisfied: types-python-dateutil==2.9.0.20241206 in /home/ingtian/miniconda3/envs/notebook_server_39/lib/python3.9/site-packages (from -r requirements.txt (line 130)) (2.9.0.20241206)\n",
      "Requirement already satisfied: typing_extensions==4.12.2 in /home/ingtian/miniconda3/envs/notebook_server_39/lib/python3.9/site-packages (from -r requirements.txt (line 131)) (4.12.2)\n",
      "Requirement already satisfied: tzdata==2025.1 in /home/ingtian/miniconda3/envs/notebook_server_39/lib/python3.9/site-packages (from -r requirements.txt (line 132)) (2025.1)\n",
      "Requirement already satisfied: uri-template==1.3.0 in /home/ingtian/miniconda3/envs/notebook_server_39/lib/python3.9/site-packages (from -r requirements.txt (line 133)) (1.3.0)\n",
      "Requirement already satisfied: urllib3==2.3.0 in /home/ingtian/miniconda3/envs/notebook_server_39/lib/python3.9/site-packages (from -r requirements.txt (line 134)) (2.3.0)\n",
      "Requirement already satisfied: wcwidth==0.2.13 in /home/ingtian/miniconda3/envs/notebook_server_39/lib/python3.9/site-packages (from -r requirements.txt (line 135)) (0.2.13)\n",
      "Requirement already satisfied: webcolors==24.11.1 in /home/ingtian/miniconda3/envs/notebook_server_39/lib/python3.9/site-packages (from -r requirements.txt (line 136)) (24.11.1)\n",
      "Requirement already satisfied: webencodings==0.5.1 in /home/ingtian/miniconda3/envs/notebook_server_39/lib/python3.9/site-packages (from -r requirements.txt (line 137)) (0.5.1)\n",
      "Requirement already satisfied: websocket-client==1.8.0 in /home/ingtian/miniconda3/envs/notebook_server_39/lib/python3.9/site-packages (from -r requirements.txt (line 138)) (1.8.0)\n",
      "Requirement already satisfied: widgetsnbextension==4.0.13 in /home/ingtian/miniconda3/envs/notebook_server_39/lib/python3.9/site-packages (from -r requirements.txt (line 139)) (4.0.13)\n",
      "Requirement already satisfied: xxhash==3.5.0 in /home/ingtian/miniconda3/envs/notebook_server_39/lib/python3.9/site-packages (from -r requirements.txt (line 140)) (3.5.0)\n",
      "Requirement already satisfied: yarl==1.18.3 in /home/ingtian/miniconda3/envs/notebook_server_39/lib/python3.9/site-packages (from -r requirements.txt (line 141)) (1.18.3)\n",
      "Requirement already satisfied: zipp==3.21.0 in /home/ingtian/miniconda3/envs/notebook_server_39/lib/python3.9/site-packages (from -r requirements.txt (line 142)) (3.21.0)\n",
      "Requirement already satisfied: setuptools>=40.8.0 in /home/ingtian/miniconda3/envs/notebook_server_39/lib/python3.9/site-packages (from jupyterlab==4.3.5->-r requirements.txt (line 53)) (75.8.0)\n"
     ]
    }
   ],
   "source": [
    "%pip install -r requirements.txt"
   ]
  },
  {
   "cell_type": "markdown",
   "metadata": {},
   "source": [
    "## Show GPU Information"
   ]
  },
  {
   "cell_type": "code",
   "execution_count": 2,
   "metadata": {},
   "outputs": [
    {
     "name": "stdout",
     "output_type": "stream",
     "text": [
      "Mon Feb 24 19:52:43 2025       \n",
      "+-----------------------------------------------------------------------------------------+\n",
      "| NVIDIA-SMI 565.77.01              Driver Version: 566.36         CUDA Version: 12.7     |\n",
      "|-----------------------------------------+------------------------+----------------------+\n",
      "| GPU  Name                 Persistence-M | Bus-Id          Disp.A | Volatile Uncorr. ECC |\n",
      "| Fan  Temp   Perf          Pwr:Usage/Cap |           Memory-Usage | GPU-Util  Compute M. |\n",
      "|                                         |                        |               MIG M. |\n",
      "|=========================================+========================+======================|\n",
      "|   0  NVIDIA GeForce RTX 4080 ...    On  |   00000000:01:00.0  On |                  N/A |\n",
      "|  0%   33C    P8             13W /  320W |    2283MiB /  16376MiB |     21%      Default |\n",
      "|                                         |                        |                  N/A |\n",
      "+-----------------------------------------+------------------------+----------------------+\n",
      "                                                                                         \n",
      "+-----------------------------------------------------------------------------------------+\n",
      "| Processes:                                                                              |\n",
      "|  GPU   GI   CI        PID   Type   Process name                              GPU Memory |\n",
      "|        ID   ID                                                               Usage      |\n",
      "|=========================================================================================|\n",
      "|  No running processes found                                                             |\n",
      "+-----------------------------------------------------------------------------------------+\n"
     ]
    }
   ],
   "source": [
    "!nvidia-smi"
   ]
  },
  {
   "cell_type": "code",
   "execution_count": null,
   "metadata": {},
   "outputs": [
    {
     "name": "stdout",
     "output_type": "stream",
     "text": [
      "CUDA is available: True\n",
      "Number of GPUs: 1\n",
      "\n",
      "GPU 0: NVIDIA GeForce RTX 4080 SUPER\n",
      "  - CUDA Capability: (8, 9)\n",
      "  - Memory Allocated: 0.00 MB\n",
      "  - Memory Cached: 0.00 MB\n",
      "  - Current Temperature: Not accessible via PyTorch\n"
     ]
    }
   ],
   "source": [
    "import torch\n",
    "\n",
    "# Check if CUDA is available\n",
    "if torch.cuda.is_available():\n",
    "    print(f\"CUDA is available: {torch.cuda.is_available()}\")\n",
    "    print(f\"Number of GPUs: {torch.cuda.device_count()}\")\n",
    "\n",
    "    # Iterate through each available GPU\n",
    "    for i in range(torch.cuda.device_count()):\n",
    "        print(f\"\\nGPU {i}: {torch.cuda.get_device_name(i)}\")\n",
    "        print(f\"  - CUDA Capability: {torch.cuda.get_device_capability(i)}\")\n",
    "        print(f\"  - Memory Allocated: {torch.cuda.memory_allocated(i) / 1024**2:.2f} MB\")\n",
    "        print(f\"  - Memory Cached: {torch.cuda.memory_reserved(i) / 1024**2:.2f} MB\")\n",
    "else:\n",
    "    print(\"CUDA is not available.\")\n"
   ]
  },
  {
   "cell_type": "markdown",
   "metadata": {},
   "source": [
    "# Data Loading, Preprocessing, Tokenization, & Embedding"
   ]
  },
  {
   "cell_type": "markdown",
   "metadata": {},
   "source": [
    "## Load Data from `datasets`"
   ]
  },
  {
   "cell_type": "code",
   "execution_count": 4,
   "metadata": {},
   "outputs": [
    {
     "name": "stdout",
     "output_type": "stream",
     "text": [
      "{'translation': {'de': 'Wiederaufnahme der Sitzungsperiode', 'en': 'Resumption of the session'}}\n"
     ]
    }
   ],
   "source": [
    "from datasets import load_dataset\n",
    "\n",
    "# Load the WMT14 dataset (English-German)\n",
    "dataset = load_dataset(\"wmt14\", \"de-en\")\n",
    "\n",
    "# Preview\n",
    "print(dataset[\"train\"][0])\n"
   ]
  },
  {
   "cell_type": "code",
   "execution_count": 5,
   "metadata": {},
   "outputs": [],
   "source": [
    "## Toeknize the Dataset with Bert"
   ]
  },
  {
   "cell_type": "code",
   "execution_count": 6,
   "metadata": {},
   "outputs": [
    {
     "data": {
      "application/vnd.jupyter.widget-view+json": {
       "model_id": "e62c291e9d014c489b690c3243aaf56e",
       "version_major": 2,
       "version_minor": 0
      },
      "text/plain": [
       "Map:   0%|          | 0/3003 [00:00<?, ? examples/s]"
      ]
     },
     "metadata": {},
     "output_type": "display_data"
    },
    {
     "name": "stdout",
     "output_type": "stream",
     "text": [
      "{'src_input_ids': [101, 24501, 24237, 3508, 1997, 1996, 5219, 102, 0, 0, 0, 0, 0, 0, 0, 0, 0, 0, 0, 0, 0, 0, 0, 0, 0, 0, 0, 0, 0, 0, 0, 0, 0, 0, 0, 0, 0, 0, 0, 0, 0, 0, 0, 0, 0, 0, 0, 0, 0, 0, 0, 0, 0, 0, 0, 0, 0, 0, 0, 0, 0, 0, 0, 0, 0, 0, 0, 0, 0, 0, 0, 0, 0, 0, 0, 0, 0, 0, 0, 0, 0, 0, 0, 0, 0, 0, 0, 0, 0, 0, 0, 0, 0, 0, 0, 0, 0, 0, 0, 0, 0, 0, 0, 0, 0, 0, 0, 0, 0, 0, 0, 0, 0, 0, 0, 0, 0, 0, 0, 0, 0, 0, 0, 0, 0, 0, 0, 0], 'src_attn_masks': [1, 1, 1, 1, 1, 1, 1, 1, 0, 0, 0, 0, 0, 0, 0, 0, 0, 0, 0, 0, 0, 0, 0, 0, 0, 0, 0, 0, 0, 0, 0, 0, 0, 0, 0, 0, 0, 0, 0, 0, 0, 0, 0, 0, 0, 0, 0, 0, 0, 0, 0, 0, 0, 0, 0, 0, 0, 0, 0, 0, 0, 0, 0, 0, 0, 0, 0, 0, 0, 0, 0, 0, 0, 0, 0, 0, 0, 0, 0, 0, 0, 0, 0, 0, 0, 0, 0, 0, 0, 0, 0, 0, 0, 0, 0, 0, 0, 0, 0, 0, 0, 0, 0, 0, 0, 0, 0, 0, 0, 0, 0, 0, 0, 0, 0, 0, 0, 0, 0, 0, 0, 0, 0, 0, 0, 0, 0, 0], 'tgt_input_ids': [101, 15536, 14728, 2527, 16093, 15272, 4168, 4315, 4133, 9759, 3070, 17668, 3695, 3207, 102, 0, 0, 0, 0, 0, 0, 0, 0, 0, 0, 0, 0, 0, 0, 0, 0, 0, 0, 0, 0, 0, 0, 0, 0, 0, 0, 0, 0, 0, 0, 0, 0, 0, 0, 0, 0, 0, 0, 0, 0, 0, 0, 0, 0, 0, 0, 0, 0, 0, 0, 0, 0, 0, 0, 0, 0, 0, 0, 0, 0, 0, 0, 0, 0, 0, 0, 0, 0, 0, 0, 0, 0, 0, 0, 0, 0, 0, 0, 0, 0, 0, 0, 0, 0, 0, 0, 0, 0, 0, 0, 0, 0, 0, 0, 0, 0, 0, 0, 0, 0, 0, 0, 0, 0, 0, 0, 0, 0, 0, 0, 0, 0, 0], 'tgt_attn_masks': [1, 1, 1, 1, 1, 1, 1, 1, 1, 1, 1, 1, 1, 1, 1, 0, 0, 0, 0, 0, 0, 0, 0, 0, 0, 0, 0, 0, 0, 0, 0, 0, 0, 0, 0, 0, 0, 0, 0, 0, 0, 0, 0, 0, 0, 0, 0, 0, 0, 0, 0, 0, 0, 0, 0, 0, 0, 0, 0, 0, 0, 0, 0, 0, 0, 0, 0, 0, 0, 0, 0, 0, 0, 0, 0, 0, 0, 0, 0, 0, 0, 0, 0, 0, 0, 0, 0, 0, 0, 0, 0, 0, 0, 0, 0, 0, 0, 0, 0, 0, 0, 0, 0, 0, 0, 0, 0, 0, 0, 0, 0, 0, 0, 0, 0, 0, 0, 0, 0, 0, 0, 0, 0, 0, 0, 0, 0, 0]}\n"
     ]
    }
   ],
   "source": [
    "from transformers import AutoTokenizer\n",
    "\n",
    "# Load BERT tokenizer (or any model-specific tokenizer)\n",
    "tokenizer = AutoTokenizer.from_pretrained(\"bert-base-uncased\")\n",
    "\n",
    "# Tokenize the dataset (batch-wise)\n",
    "def tokenize_function(example):\n",
    "    example_translations = example[\"translation\"]\n",
    "    src_corpus = list(map(lambda x: x['en'], example_translations))\n",
    "    tgt_corpus = list(map(lambda x: x['de'], example_translations))\n",
    "    src_tokens = tokenizer(src_corpus, padding=\"max_length\", truncation=True, max_length=128)\n",
    "    tgt_tokens = tokenizer(tgt_corpus, padding=\"max_length\", truncation=True, max_length=128)\n",
    "    return {\n",
    "        \"src_input_ids\": src_tokens[\"input_ids\"],\n",
    "        \"src_attn_masks\": src_tokens[\"attention_mask\"],\n",
    "        \"tgt_input_ids\": tgt_tokens[\"input_ids\"],\n",
    "        \"tgt_attn_masks\": tgt_tokens[\"attention_mask\"]\n",
    "    }\n",
    "\n",
    "# Apply tokenization\n",
    "tokenized_dataset = dataset.map(tokenize_function, batched=True)\n",
    "tokenized_dataset = tokenized_dataset.remove_columns([\"translation\"])\n",
    "\n",
    "# Check result\n",
    "print(tokenized_dataset[\"train\"][0])\n"
   ]
  },
  {
   "cell_type": "markdown",
   "metadata": {},
   "source": [
    "## Create the Dataloader"
   ]
  },
  {
   "cell_type": "code",
   "execution_count": 22,
   "metadata": {},
   "outputs": [
    {
     "name": "stderr",
     "output_type": "stream",
     "text": [
      "huggingface/tokenizers: The current process just got forked, after parallelism has already been used. Disabling parallelism to avoid deadlocks...\n",
      "To disable this warning, you can either:\n",
      "\t- Avoid using `tokenizers` before the fork if possible\n",
      "\t- Explicitly set the environment variable TOKENIZERS_PARALLELISM=(true | false)\n",
      "huggingface/tokenizers: The current process just got forked, after parallelism has already been used. Disabling parallelism to avoid deadlocks...\n",
      "To disable this warning, you can either:\n",
      "\t- Avoid using `tokenizers` before the fork if possible\n",
      "\t- Explicitly set the environment variable TOKENIZERS_PARALLELISM=(true | false)\n",
      "huggingface/tokenizers: The current process just got forked, after parallelism has already been used. Disabling parallelism to avoid deadlocks...\n",
      "To disable this warning, you can either:\n",
      "\t- Avoid using `tokenizers` before the fork if possible\n",
      "\t- Explicitly set the environment variable TOKENIZERS_PARALLELISM=(true | false)\n",
      "huggingface/tokenizers: The current process just got forked, after parallelism has already been used. Disabling parallelism to avoid deadlocks...\n",
      "To disable this warning, you can either:\n",
      "\t- Avoid using `tokenizers` before the fork if possible\n",
      "\t- Explicitly set the environment variable TOKENIZERS_PARALLELISM=(true | false)\n"
     ]
    },
    {
     "name": "stdout",
     "output_type": "stream",
     "text": [
      "torch.Size([16, 128])\n"
     ]
    }
   ],
   "source": [
    "from torch.utils.data import DataLoader\n",
    "\n",
    "# Convert dataset to PyTorch format\n",
    "tokenized_dataset.set_format(type=\"torch\", columns=[\"src_input_ids\", \"src_attn_masks\", \"tgt_input_ids\", \"tgt_attn_masks\"])\n",
    "\n",
    "# Create DataLoader\n",
    "train_loader = DataLoader(\n",
    "    tokenized_dataset[\"train\"], \n",
    "    batch_size=16, \n",
    "    shuffle=True, \n",
    "    num_workers=4, \n",
    "    pin_memory=True,  # Faster transfer to GPU\n",
    "    prefetch_factor=4,  # Preload batches in advance\n",
    ")\n",
    "\n",
    "# Iterate through batches\n",
    "for batch in train_loader:\n",
    "    print(batch[\"src_input_ids\"].shape)\n",
    "    break\n"
   ]
  },
  {
   "cell_type": "markdown",
   "metadata": {},
   "source": [
    "## Release Memory from Redundant Variables"
   ]
  },
  {
   "cell_type": "code",
   "execution_count": 8,
   "metadata": {},
   "outputs": [],
   "source": [
    "del dataset"
   ]
  },
  {
   "cell_type": "markdown",
   "metadata": {},
   "source": [
    "# Load and Train the Model"
   ]
  },
  {
   "cell_type": "markdown",
   "metadata": {},
   "source": [
    "## Load the Transformer Model"
   ]
  },
  {
   "cell_type": "code",
   "execution_count": 9,
   "metadata": {},
   "outputs": [
    {
     "name": "stdout",
     "output_type": "stream",
     "text": [
      "Using device: cuda\n",
      "\n",
      "🔍 Model Parameter Summary:\n",
      "Total Parameters: 60,190,010\n",
      "Trainable Parameters: 60,190,010\n",
      "Non-Trainable Parameters: 0\n",
      "\n"
     ]
    }
   ],
   "source": [
    "from model.transformer import Transformer\n",
    "\n",
    "# Ensure GPU usage\n",
    "device = torch.device(\"cuda\" if torch.cuda.is_available() else \"cpu\")\n",
    "print(f\"Using device: {device}\")\n",
    "vocab_size = tokenizer.vocab_size\n",
    "model = Transformer(vocab_size, 128).to(device)\n",
    "\n",
    "# Count total parameters in the Transformer model\n",
    "def count_parameters(model):\n",
    "    total_params = sum(p.numel() for p in model.parameters())\n",
    "    trainable_params = sum(p.numel() for p in model.parameters() if p.requires_grad)\n",
    "    non_trainable_params = total_params - trainable_params\n",
    "\n",
    "    print(f\"\\n🔍 Model Parameter Summary:\")\n",
    "    print(f\"Total Parameters: {total_params:,}\")\n",
    "    print(f\"Trainable Parameters: {trainable_params:,}\")\n",
    "    print(f\"Non-Trainable Parameters: {non_trainable_params:,}\\n\")\n",
    "\n",
    "# Call the function\n",
    "count_parameters(model)"
   ]
  },
  {
   "cell_type": "markdown",
   "metadata": {},
   "source": [
    "## Loss and Optimizer"
   ]
  },
  {
   "cell_type": "code",
   "execution_count": 10,
   "metadata": {},
   "outputs": [],
   "source": [
    "import torch.nn as nn\n",
    "import torch.optim as optim\n",
    "\n",
    "# Loss and Optimizer\n",
    "criterion = nn.CrossEntropyLoss(ignore_index=tokenizer.pad_token_id)\n",
    "optimizer = optim.AdamW(model.parameters(), lr=5e-5)"
   ]
  },
  {
   "cell_type": "markdown",
   "metadata": {},
   "source": [
    "## Target Masks"
   ]
  },
  {
   "cell_type": "code",
   "execution_count": 11,
   "metadata": {},
   "outputs": [],
   "source": [
    "def generate_combined_target_mask(attention_mask):\n",
    "    \"\"\"\n",
    "    Generate combined target mask for decoder:\n",
    "    1. Padding mask from tokenizer\n",
    "    2. Lower triangular causal mask\n",
    "\n",
    "    Args:\n",
    "        attention_mask (Tensor): [batch_size, tgt_seq_length]\n",
    "\n",
    "    Returns:\n",
    "        Tensor: Combined mask [batch_size, tgt_seq_length, tgt_seq_length]\n",
    "    \"\"\"\n",
    "    batch_size, seq_len = attention_mask.shape\n",
    "\n",
    "    # 1. Generate causal mask (lower triangular)\n",
    "    causal_mask = torch.tril(torch.ones((seq_len, seq_len), dtype=torch.bool, device=attention_mask.device))\n",
    "    causal_mask = causal_mask.unsqueeze(0).expand(batch_size, -1, -1)  # Shape: [batch_size, seq_len, seq_len]\n",
    "\n",
    "    # 2. Expand padding mask for broadcasting\n",
    "    padding_mask = attention_mask.unsqueeze(1).expand(-1, seq_len, -1)  # [batch_size, seq_len, seq_len]\n",
    "\n",
    "    # 3. Combine both masks (AND operation)\n",
    "    combined_mask = causal_mask & padding_mask\n",
    "\n",
    "    return combined_mask"
   ]
  },
  {
   "cell_type": "markdown",
   "metadata": {},
   "source": [
    "## Load BERT Model for Embedding"
   ]
  },
  {
   "cell_type": "code",
   "execution_count": 12,
   "metadata": {},
   "outputs": [],
   "source": [
    "from transformers import BertModel\n",
    "\n",
    "bert = BertModel.from_pretrained(\"bert-base-uncased\").to(device)"
   ]
  },
  {
   "cell_type": "markdown",
   "metadata": {},
   "source": [
    "## Training"
   ]
  },
  {
   "cell_type": "code",
   "execution_count": null,
   "metadata": {},
   "outputs": [
    {
     "name": "stderr",
     "output_type": "stream",
     "text": [
      "huggingface/tokenizers: The current process just got forked, after parallelism has already been used. Disabling parallelism to avoid deadlocks...                                                                                | 0/281800 [00:00<?, ?it/s]\n",
      "To disable this warning, you can either:\n",
      "\t- Avoid using `tokenizers` before the fork if possible\n",
      "\t- Explicitly set the environment variable TOKENIZERS_PARALLELISM=(true | false)\n",
      "huggingface/tokenizers: The current process just got forked, after parallelism has already been used. Disabling parallelism to avoid deadlocks...\n",
      "To disable this warning, you can either:\n",
      "\t- Avoid using `tokenizers` before the fork if possible\n",
      "\t- Explicitly set the environment variable TOKENIZERS_PARALLELISM=(true | false)\n",
      "huggingface/tokenizers: The current process just got forked, after parallelism has already been used. Disabling parallelism to avoid deadlocks...\n",
      "To disable this warning, you can either:\n",
      "\t- Avoid using `tokenizers` before the fork if possible\n",
      "\t- Explicitly set the environment variable TOKENIZERS_PARALLELISM=(true | false)\n",
      "huggingface/tokenizers: The current process just got forked, after parallelism has already been used. Disabling parallelism to avoid deadlocks...\n",
      "To disable this warning, you can either:\n",
      "\t- Avoid using `tokenizers` before the fork if possible\n",
      "\t- Explicitly set the environment variable TOKENIZERS_PARALLELISM=(true | false)\n",
      "Exception in thread Thread-12:                                                                                                                                                                                      | 229/281800 [00:54<23:03:45,  3.39it/s]\n",
      "Traceback (most recent call last):\n",
      "  File \"/home/ingtian/miniconda3/envs/notebook_server_39/lib/python3.9/threading.py\", line 980, in _bootstrap_inner\n",
      "    self.run()\n",
      "  File \"/home/ingtian/miniconda3/envs/notebook_server_39/lib/python3.9/site-packages/ipykernel/ipkernel.py\", line 766, in run_closure\n",
      "    _threading_Thread_run(self)\n",
      "  File \"/home/ingtian/miniconda3/envs/notebook_server_39/lib/python3.9/threading.py\", line 917, in run\n",
      "    self._target(*self._args, **self._kwargs)\n",
      "  File \"/home/ingtian/miniconda3/envs/notebook_server_39/lib/python3.9/site-packages/torch/utils/data/_utils/pin_memory.py\", line 59, in _pin_memory_loop\n",
      "    do_one_step()\n",
      "  File \"/home/ingtian/miniconda3/envs/notebook_server_39/lib/python3.9/site-packages/torch/utils/data/_utils/pin_memory.py\", line 35, in do_one_step\n",
      "    r = in_queue.get(timeout=MP_STATUS_CHECK_INTERVAL)\n",
      "  File \"/home/ingtian/miniconda3/envs/notebook_server_39/lib/python3.9/multiprocessing/queues.py\", line 122, in get\n",
      "    return _ForkingPickler.loads(res)\n",
      "  File \"/home/ingtian/miniconda3/envs/notebook_server_39/lib/python3.9/site-packages/torch/multiprocessing/reductions.py\", line 541, in rebuild_storage_fd\n",
      "    fd = df.detach()\n",
      "  File \"/home/ingtian/miniconda3/envs/notebook_server_39/lib/python3.9/multiprocessing/resource_sharer.py\", line 58, in detach\n",
      "    return reduction.recv_handle(conn)\n",
      "  File \"/home/ingtian/miniconda3/envs/notebook_server_39/lib/python3.9/multiprocessing/reduction.py\", line 189, in recv_handle\n",
      "    return recvfds(s, 1)[0]\n",
      "  File \"/home/ingtian/miniconda3/envs/notebook_server_39/lib/python3.9/multiprocessing/reduction.py\", line 157, in recvfds\n",
      "    msg, ancdata, flags, addr = sock.recvmsg(1, socket.CMSG_SPACE(bytes_size))\n",
      "ConnectionResetError: [Errno 104] Connection reset by peer\n",
      "  0%|▏                                                                                                                                                                                                              | 229/281800 [00:54<18:34:09,  4.21it/s]\n"
     ]
    },
    {
     "ename": "KeyboardInterrupt",
     "evalue": "",
     "output_type": "error",
     "traceback": [
      "\u001b[0;31m---------------------------------------------------------------------------\u001b[0m",
      "\u001b[0;31mKeyboardInterrupt\u001b[0m                         Traceback (most recent call last)",
      "Cell \u001b[0;32mIn[23], line 22\u001b[0m\n\u001b[1;32m     19\u001b[0m     embedded_outputs \u001b[38;5;241m=\u001b[39m bert(labels, attention_mask\u001b[38;5;241m=\u001b[39mlabel_mask)\u001b[38;5;241m.\u001b[39mlast_hidden_state\n\u001b[1;32m     21\u001b[0m \u001b[38;5;66;03m# Forward pass through Transformer\u001b[39;00m\n\u001b[0;32m---> 22\u001b[0m outputs \u001b[38;5;241m=\u001b[39m \u001b[43mmodel\u001b[49m\u001b[43m(\u001b[49m\n\u001b[1;32m     23\u001b[0m \u001b[43m    \u001b[49m\u001b[43membedded_inputs\u001b[49m\u001b[43m,\u001b[49m\u001b[43m \u001b[49m\n\u001b[1;32m     24\u001b[0m \u001b[43m    \u001b[49m\u001b[43membedded_outputs\u001b[49m\u001b[43m,\u001b[49m\u001b[43m \u001b[49m\n\u001b[1;32m     25\u001b[0m \u001b[43m    \u001b[49m\u001b[43mattention_mask\u001b[49m\u001b[38;5;241;43m.\u001b[39;49m\u001b[43munsqueeze\u001b[49m\u001b[43m(\u001b[49m\u001b[38;5;241;43m1\u001b[39;49m\u001b[43m)\u001b[49m\u001b[38;5;241;43m.\u001b[39;49m\u001b[43munsqueeze\u001b[49m\u001b[43m(\u001b[49m\u001b[38;5;241;43m1\u001b[39;49m\u001b[43m)\u001b[49m\u001b[43m,\u001b[49m\u001b[43m \u001b[49m\n\u001b[1;32m     26\u001b[0m \u001b[43m    \u001b[49m\u001b[43mcausal_mask\u001b[49m\u001b[38;5;241;43m.\u001b[39;49m\u001b[43munsqueeze\u001b[49m\u001b[43m(\u001b[49m\u001b[38;5;241;43m1\u001b[39;49m\u001b[43m)\u001b[49m\u001b[43m,\u001b[49m\n\u001b[1;32m     27\u001b[0m \u001b[43m\u001b[49m\u001b[43m)\u001b[49m  \u001b[38;5;66;03m# Customize tgt_masks as needed\u001b[39;00m\n\u001b[1;32m     29\u001b[0m \u001b[38;5;66;03m# Compute loss (ignore padding tokens)\u001b[39;00m\n\u001b[1;32m     30\u001b[0m logits \u001b[38;5;241m=\u001b[39m outputs\u001b[38;5;241m.\u001b[39mview(\u001b[38;5;241m-\u001b[39m\u001b[38;5;241m1\u001b[39m, vocab_size)\n",
      "File \u001b[0;32m~/miniconda3/envs/notebook_server_39/lib/python3.9/site-packages/torch/nn/modules/module.py:1739\u001b[0m, in \u001b[0;36mModule._wrapped_call_impl\u001b[0;34m(self, *args, **kwargs)\u001b[0m\n\u001b[1;32m   1737\u001b[0m     \u001b[38;5;28;01mreturn\u001b[39;00m \u001b[38;5;28mself\u001b[39m\u001b[38;5;241m.\u001b[39m_compiled_call_impl(\u001b[38;5;241m*\u001b[39margs, \u001b[38;5;241m*\u001b[39m\u001b[38;5;241m*\u001b[39mkwargs)  \u001b[38;5;66;03m# type: ignore[misc]\u001b[39;00m\n\u001b[1;32m   1738\u001b[0m \u001b[38;5;28;01melse\u001b[39;00m:\n\u001b[0;32m-> 1739\u001b[0m     \u001b[38;5;28;01mreturn\u001b[39;00m \u001b[38;5;28;43mself\u001b[39;49m\u001b[38;5;241;43m.\u001b[39;49m\u001b[43m_call_impl\u001b[49m\u001b[43m(\u001b[49m\u001b[38;5;241;43m*\u001b[39;49m\u001b[43margs\u001b[49m\u001b[43m,\u001b[49m\u001b[43m \u001b[49m\u001b[38;5;241;43m*\u001b[39;49m\u001b[38;5;241;43m*\u001b[39;49m\u001b[43mkwargs\u001b[49m\u001b[43m)\u001b[49m\n",
      "File \u001b[0;32m~/miniconda3/envs/notebook_server_39/lib/python3.9/site-packages/torch/nn/modules/module.py:1750\u001b[0m, in \u001b[0;36mModule._call_impl\u001b[0;34m(self, *args, **kwargs)\u001b[0m\n\u001b[1;32m   1745\u001b[0m \u001b[38;5;66;03m# If we don't have any hooks, we want to skip the rest of the logic in\u001b[39;00m\n\u001b[1;32m   1746\u001b[0m \u001b[38;5;66;03m# this function, and just call forward.\u001b[39;00m\n\u001b[1;32m   1747\u001b[0m \u001b[38;5;28;01mif\u001b[39;00m \u001b[38;5;129;01mnot\u001b[39;00m (\u001b[38;5;28mself\u001b[39m\u001b[38;5;241m.\u001b[39m_backward_hooks \u001b[38;5;129;01mor\u001b[39;00m \u001b[38;5;28mself\u001b[39m\u001b[38;5;241m.\u001b[39m_backward_pre_hooks \u001b[38;5;129;01mor\u001b[39;00m \u001b[38;5;28mself\u001b[39m\u001b[38;5;241m.\u001b[39m_forward_hooks \u001b[38;5;129;01mor\u001b[39;00m \u001b[38;5;28mself\u001b[39m\u001b[38;5;241m.\u001b[39m_forward_pre_hooks\n\u001b[1;32m   1748\u001b[0m         \u001b[38;5;129;01mor\u001b[39;00m _global_backward_pre_hooks \u001b[38;5;129;01mor\u001b[39;00m _global_backward_hooks\n\u001b[1;32m   1749\u001b[0m         \u001b[38;5;129;01mor\u001b[39;00m _global_forward_hooks \u001b[38;5;129;01mor\u001b[39;00m _global_forward_pre_hooks):\n\u001b[0;32m-> 1750\u001b[0m     \u001b[38;5;28;01mreturn\u001b[39;00m \u001b[43mforward_call\u001b[49m\u001b[43m(\u001b[49m\u001b[38;5;241;43m*\u001b[39;49m\u001b[43margs\u001b[49m\u001b[43m,\u001b[49m\u001b[43m \u001b[49m\u001b[38;5;241;43m*\u001b[39;49m\u001b[38;5;241;43m*\u001b[39;49m\u001b[43mkwargs\u001b[49m\u001b[43m)\u001b[49m\n\u001b[1;32m   1752\u001b[0m result \u001b[38;5;241m=\u001b[39m \u001b[38;5;28;01mNone\u001b[39;00m\n\u001b[1;32m   1753\u001b[0m called_always_called_hooks \u001b[38;5;241m=\u001b[39m \u001b[38;5;28mset\u001b[39m()\n",
      "File \u001b[0;32m~/dev_projects/ing/paper_transformer/model/transformer.py:137\u001b[0m, in \u001b[0;36mTransformer.forward\u001b[0;34m(self, src, tgt, src_masks, tgt_masks)\u001b[0m\n\u001b[1;32m    134\u001b[0m src \u001b[38;5;241m=\u001b[39m \u001b[38;5;28mself\u001b[39m\u001b[38;5;241m.\u001b[39mpositional_encoding(\u001b[38;5;28mself\u001b[39m\u001b[38;5;241m.\u001b[39memb_transform_layer(src))\n\u001b[1;32m    135\u001b[0m tgt \u001b[38;5;241m=\u001b[39m \u001b[38;5;28mself\u001b[39m\u001b[38;5;241m.\u001b[39mpositional_encoding(\u001b[38;5;28mself\u001b[39m\u001b[38;5;241m.\u001b[39memb_transform_layer(tgt))\n\u001b[0;32m--> 137\u001b[0m enc_output \u001b[38;5;241m=\u001b[39m \u001b[38;5;28;43mself\u001b[39;49m\u001b[38;5;241;43m.\u001b[39;49m\u001b[43mencoder\u001b[49m\u001b[43m(\u001b[49m\u001b[43msrc\u001b[49m\u001b[43m,\u001b[49m\u001b[43m \u001b[49m\u001b[43msrc_masks\u001b[49m\u001b[43m)\u001b[49m\n\u001b[1;32m    138\u001b[0m dec_output \u001b[38;5;241m=\u001b[39m \u001b[38;5;28mself\u001b[39m\u001b[38;5;241m.\u001b[39mdecoder(tgt, enc_output, src_masks, tgt_masks)\n\u001b[1;32m    139\u001b[0m output \u001b[38;5;241m=\u001b[39m \u001b[38;5;28mself\u001b[39m\u001b[38;5;241m.\u001b[39moutput_layer(dec_output)\n",
      "File \u001b[0;32m~/miniconda3/envs/notebook_server_39/lib/python3.9/site-packages/torch/nn/modules/module.py:1739\u001b[0m, in \u001b[0;36mModule._wrapped_call_impl\u001b[0;34m(self, *args, **kwargs)\u001b[0m\n\u001b[1;32m   1737\u001b[0m     \u001b[38;5;28;01mreturn\u001b[39;00m \u001b[38;5;28mself\u001b[39m\u001b[38;5;241m.\u001b[39m_compiled_call_impl(\u001b[38;5;241m*\u001b[39margs, \u001b[38;5;241m*\u001b[39m\u001b[38;5;241m*\u001b[39mkwargs)  \u001b[38;5;66;03m# type: ignore[misc]\u001b[39;00m\n\u001b[1;32m   1738\u001b[0m \u001b[38;5;28;01melse\u001b[39;00m:\n\u001b[0;32m-> 1739\u001b[0m     \u001b[38;5;28;01mreturn\u001b[39;00m \u001b[38;5;28;43mself\u001b[39;49m\u001b[38;5;241;43m.\u001b[39;49m\u001b[43m_call_impl\u001b[49m\u001b[43m(\u001b[49m\u001b[38;5;241;43m*\u001b[39;49m\u001b[43margs\u001b[49m\u001b[43m,\u001b[49m\u001b[43m \u001b[49m\u001b[38;5;241;43m*\u001b[39;49m\u001b[38;5;241;43m*\u001b[39;49m\u001b[43mkwargs\u001b[49m\u001b[43m)\u001b[49m\n",
      "File \u001b[0;32m~/miniconda3/envs/notebook_server_39/lib/python3.9/site-packages/torch/nn/modules/module.py:1750\u001b[0m, in \u001b[0;36mModule._call_impl\u001b[0;34m(self, *args, **kwargs)\u001b[0m\n\u001b[1;32m   1745\u001b[0m \u001b[38;5;66;03m# If we don't have any hooks, we want to skip the rest of the logic in\u001b[39;00m\n\u001b[1;32m   1746\u001b[0m \u001b[38;5;66;03m# this function, and just call forward.\u001b[39;00m\n\u001b[1;32m   1747\u001b[0m \u001b[38;5;28;01mif\u001b[39;00m \u001b[38;5;129;01mnot\u001b[39;00m (\u001b[38;5;28mself\u001b[39m\u001b[38;5;241m.\u001b[39m_backward_hooks \u001b[38;5;129;01mor\u001b[39;00m \u001b[38;5;28mself\u001b[39m\u001b[38;5;241m.\u001b[39m_backward_pre_hooks \u001b[38;5;129;01mor\u001b[39;00m \u001b[38;5;28mself\u001b[39m\u001b[38;5;241m.\u001b[39m_forward_hooks \u001b[38;5;129;01mor\u001b[39;00m \u001b[38;5;28mself\u001b[39m\u001b[38;5;241m.\u001b[39m_forward_pre_hooks\n\u001b[1;32m   1748\u001b[0m         \u001b[38;5;129;01mor\u001b[39;00m _global_backward_pre_hooks \u001b[38;5;129;01mor\u001b[39;00m _global_backward_hooks\n\u001b[1;32m   1749\u001b[0m         \u001b[38;5;129;01mor\u001b[39;00m _global_forward_hooks \u001b[38;5;129;01mor\u001b[39;00m _global_forward_pre_hooks):\n\u001b[0;32m-> 1750\u001b[0m     \u001b[38;5;28;01mreturn\u001b[39;00m \u001b[43mforward_call\u001b[49m\u001b[43m(\u001b[49m\u001b[38;5;241;43m*\u001b[39;49m\u001b[43margs\u001b[49m\u001b[43m,\u001b[49m\u001b[43m \u001b[49m\u001b[38;5;241;43m*\u001b[39;49m\u001b[38;5;241;43m*\u001b[39;49m\u001b[43mkwargs\u001b[49m\u001b[43m)\u001b[49m\n\u001b[1;32m   1752\u001b[0m result \u001b[38;5;241m=\u001b[39m \u001b[38;5;28;01mNone\u001b[39;00m\n\u001b[1;32m   1753\u001b[0m called_always_called_hooks \u001b[38;5;241m=\u001b[39m \u001b[38;5;28mset\u001b[39m()\n",
      "File \u001b[0;32m~/dev_projects/ing/paper_transformer/model/encoder.py:183\u001b[0m, in \u001b[0;36mEncoder.forward\u001b[0;34m(self, x, masks)\u001b[0m\n\u001b[1;32m    171\u001b[0m \u001b[38;5;250m\u001b[39m\u001b[38;5;124;03m\"\"\"Forward pass through the entire encoder stack.\u001b[39;00m\n\u001b[1;32m    172\u001b[0m \n\u001b[1;32m    173\u001b[0m \u001b[38;5;124;03mSequentially applies each encoder layer to the input.\u001b[39;00m\n\u001b[0;32m   (...)\u001b[0m\n\u001b[1;32m    180\u001b[0m \u001b[38;5;124;03m    Tensor: Output tensor of shape (batch_size, seq_len, d_model)\u001b[39;00m\n\u001b[1;32m    181\u001b[0m \u001b[38;5;124;03m\"\"\"\u001b[39;00m\n\u001b[1;32m    182\u001b[0m \u001b[38;5;28;01mfor\u001b[39;00m layer \u001b[38;5;129;01min\u001b[39;00m \u001b[38;5;28mself\u001b[39m\u001b[38;5;241m.\u001b[39mlayers:\n\u001b[0;32m--> 183\u001b[0m     x \u001b[38;5;241m=\u001b[39m \u001b[43mlayer\u001b[49m\u001b[43m(\u001b[49m\u001b[43mx\u001b[49m\u001b[43m,\u001b[49m\u001b[43m \u001b[49m\u001b[43mmasks\u001b[49m\u001b[43m)\u001b[49m\n\u001b[1;32m    184\u001b[0m \u001b[38;5;28;01mreturn\u001b[39;00m x\n",
      "File \u001b[0;32m~/miniconda3/envs/notebook_server_39/lib/python3.9/site-packages/torch/nn/modules/module.py:1739\u001b[0m, in \u001b[0;36mModule._wrapped_call_impl\u001b[0;34m(self, *args, **kwargs)\u001b[0m\n\u001b[1;32m   1737\u001b[0m     \u001b[38;5;28;01mreturn\u001b[39;00m \u001b[38;5;28mself\u001b[39m\u001b[38;5;241m.\u001b[39m_compiled_call_impl(\u001b[38;5;241m*\u001b[39margs, \u001b[38;5;241m*\u001b[39m\u001b[38;5;241m*\u001b[39mkwargs)  \u001b[38;5;66;03m# type: ignore[misc]\u001b[39;00m\n\u001b[1;32m   1738\u001b[0m \u001b[38;5;28;01melse\u001b[39;00m:\n\u001b[0;32m-> 1739\u001b[0m     \u001b[38;5;28;01mreturn\u001b[39;00m \u001b[38;5;28;43mself\u001b[39;49m\u001b[38;5;241;43m.\u001b[39;49m\u001b[43m_call_impl\u001b[49m\u001b[43m(\u001b[49m\u001b[38;5;241;43m*\u001b[39;49m\u001b[43margs\u001b[49m\u001b[43m,\u001b[49m\u001b[43m \u001b[49m\u001b[38;5;241;43m*\u001b[39;49m\u001b[38;5;241;43m*\u001b[39;49m\u001b[43mkwargs\u001b[49m\u001b[43m)\u001b[49m\n",
      "File \u001b[0;32m~/miniconda3/envs/notebook_server_39/lib/python3.9/site-packages/torch/nn/modules/module.py:1750\u001b[0m, in \u001b[0;36mModule._call_impl\u001b[0;34m(self, *args, **kwargs)\u001b[0m\n\u001b[1;32m   1745\u001b[0m \u001b[38;5;66;03m# If we don't have any hooks, we want to skip the rest of the logic in\u001b[39;00m\n\u001b[1;32m   1746\u001b[0m \u001b[38;5;66;03m# this function, and just call forward.\u001b[39;00m\n\u001b[1;32m   1747\u001b[0m \u001b[38;5;28;01mif\u001b[39;00m \u001b[38;5;129;01mnot\u001b[39;00m (\u001b[38;5;28mself\u001b[39m\u001b[38;5;241m.\u001b[39m_backward_hooks \u001b[38;5;129;01mor\u001b[39;00m \u001b[38;5;28mself\u001b[39m\u001b[38;5;241m.\u001b[39m_backward_pre_hooks \u001b[38;5;129;01mor\u001b[39;00m \u001b[38;5;28mself\u001b[39m\u001b[38;5;241m.\u001b[39m_forward_hooks \u001b[38;5;129;01mor\u001b[39;00m \u001b[38;5;28mself\u001b[39m\u001b[38;5;241m.\u001b[39m_forward_pre_hooks\n\u001b[1;32m   1748\u001b[0m         \u001b[38;5;129;01mor\u001b[39;00m _global_backward_pre_hooks \u001b[38;5;129;01mor\u001b[39;00m _global_backward_hooks\n\u001b[1;32m   1749\u001b[0m         \u001b[38;5;129;01mor\u001b[39;00m _global_forward_hooks \u001b[38;5;129;01mor\u001b[39;00m _global_forward_pre_hooks):\n\u001b[0;32m-> 1750\u001b[0m     \u001b[38;5;28;01mreturn\u001b[39;00m \u001b[43mforward_call\u001b[49m\u001b[43m(\u001b[49m\u001b[38;5;241;43m*\u001b[39;49m\u001b[43margs\u001b[49m\u001b[43m,\u001b[49m\u001b[43m \u001b[49m\u001b[38;5;241;43m*\u001b[39;49m\u001b[38;5;241;43m*\u001b[39;49m\u001b[43mkwargs\u001b[49m\u001b[43m)\u001b[49m\n\u001b[1;32m   1752\u001b[0m result \u001b[38;5;241m=\u001b[39m \u001b[38;5;28;01mNone\u001b[39;00m\n\u001b[1;32m   1753\u001b[0m called_always_called_hooks \u001b[38;5;241m=\u001b[39m \u001b[38;5;28mset\u001b[39m()\n",
      "File \u001b[0;32m~/dev_projects/ing/paper_transformer/model/encoder.py:105\u001b[0m, in \u001b[0;36mEncoderLayer.forward\u001b[0;34m(self, x, masks)\u001b[0m\n\u001b[1;32m    102\u001b[0m \u001b[38;5;28;01mif\u001b[39;00m torch\u001b[38;5;241m.\u001b[39mrand(\u001b[38;5;241m1\u001b[39m)\u001b[38;5;241m.\u001b[39mitem() \u001b[38;5;241m<\u001b[39m \u001b[38;5;28mself\u001b[39m\u001b[38;5;241m.\u001b[39mp_drop_layer:\n\u001b[1;32m    103\u001b[0m     \u001b[38;5;28;01mreturn\u001b[39;00m x\n\u001b[0;32m--> 105\u001b[0m attn_values \u001b[38;5;241m=\u001b[39m \u001b[38;5;28;43mself\u001b[39;49m\u001b[38;5;241;43m.\u001b[39;49m\u001b[43mmulti_head_attention\u001b[49m\u001b[43m(\u001b[49m\u001b[43mx\u001b[49m\u001b[43m,\u001b[49m\u001b[43m \u001b[49m\u001b[43mx\u001b[49m\u001b[43m,\u001b[49m\u001b[43m \u001b[49m\u001b[43mx\u001b[49m\u001b[43m,\u001b[49m\u001b[43m \u001b[49m\u001b[43mmasks\u001b[49m\u001b[43m)\u001b[49m\n\u001b[1;32m    106\u001b[0m ff_input \u001b[38;5;241m=\u001b[39m \u001b[38;5;28mself\u001b[39m\u001b[38;5;241m.\u001b[39mnorm1(\u001b[38;5;28mself\u001b[39m\u001b[38;5;241m.\u001b[39mdropout(attn_values \u001b[38;5;241m+\u001b[39m x))\n\u001b[1;32m    107\u001b[0m \u001b[38;5;28;01mreturn\u001b[39;00m \u001b[38;5;28mself\u001b[39m\u001b[38;5;241m.\u001b[39mnorm2(\u001b[38;5;28mself\u001b[39m\u001b[38;5;241m.\u001b[39mdropout(\u001b[38;5;28mself\u001b[39m\u001b[38;5;241m.\u001b[39mfeed_forward(ff_input)) \u001b[38;5;241m+\u001b[39m ff_input)\n",
      "File \u001b[0;32m~/miniconda3/envs/notebook_server_39/lib/python3.9/site-packages/torch/nn/modules/module.py:1739\u001b[0m, in \u001b[0;36mModule._wrapped_call_impl\u001b[0;34m(self, *args, **kwargs)\u001b[0m\n\u001b[1;32m   1737\u001b[0m     \u001b[38;5;28;01mreturn\u001b[39;00m \u001b[38;5;28mself\u001b[39m\u001b[38;5;241m.\u001b[39m_compiled_call_impl(\u001b[38;5;241m*\u001b[39margs, \u001b[38;5;241m*\u001b[39m\u001b[38;5;241m*\u001b[39mkwargs)  \u001b[38;5;66;03m# type: ignore[misc]\u001b[39;00m\n\u001b[1;32m   1738\u001b[0m \u001b[38;5;28;01melse\u001b[39;00m:\n\u001b[0;32m-> 1739\u001b[0m     \u001b[38;5;28;01mreturn\u001b[39;00m \u001b[38;5;28;43mself\u001b[39;49m\u001b[38;5;241;43m.\u001b[39;49m\u001b[43m_call_impl\u001b[49m\u001b[43m(\u001b[49m\u001b[38;5;241;43m*\u001b[39;49m\u001b[43margs\u001b[49m\u001b[43m,\u001b[49m\u001b[43m \u001b[49m\u001b[38;5;241;43m*\u001b[39;49m\u001b[38;5;241;43m*\u001b[39;49m\u001b[43mkwargs\u001b[49m\u001b[43m)\u001b[49m\n",
      "File \u001b[0;32m~/miniconda3/envs/notebook_server_39/lib/python3.9/site-packages/torch/nn/modules/module.py:1750\u001b[0m, in \u001b[0;36mModule._call_impl\u001b[0;34m(self, *args, **kwargs)\u001b[0m\n\u001b[1;32m   1745\u001b[0m \u001b[38;5;66;03m# If we don't have any hooks, we want to skip the rest of the logic in\u001b[39;00m\n\u001b[1;32m   1746\u001b[0m \u001b[38;5;66;03m# this function, and just call forward.\u001b[39;00m\n\u001b[1;32m   1747\u001b[0m \u001b[38;5;28;01mif\u001b[39;00m \u001b[38;5;129;01mnot\u001b[39;00m (\u001b[38;5;28mself\u001b[39m\u001b[38;5;241m.\u001b[39m_backward_hooks \u001b[38;5;129;01mor\u001b[39;00m \u001b[38;5;28mself\u001b[39m\u001b[38;5;241m.\u001b[39m_backward_pre_hooks \u001b[38;5;129;01mor\u001b[39;00m \u001b[38;5;28mself\u001b[39m\u001b[38;5;241m.\u001b[39m_forward_hooks \u001b[38;5;129;01mor\u001b[39;00m \u001b[38;5;28mself\u001b[39m\u001b[38;5;241m.\u001b[39m_forward_pre_hooks\n\u001b[1;32m   1748\u001b[0m         \u001b[38;5;129;01mor\u001b[39;00m _global_backward_pre_hooks \u001b[38;5;129;01mor\u001b[39;00m _global_backward_hooks\n\u001b[1;32m   1749\u001b[0m         \u001b[38;5;129;01mor\u001b[39;00m _global_forward_hooks \u001b[38;5;129;01mor\u001b[39;00m _global_forward_pre_hooks):\n\u001b[0;32m-> 1750\u001b[0m     \u001b[38;5;28;01mreturn\u001b[39;00m \u001b[43mforward_call\u001b[49m\u001b[43m(\u001b[49m\u001b[38;5;241;43m*\u001b[39;49m\u001b[43margs\u001b[49m\u001b[43m,\u001b[49m\u001b[43m \u001b[49m\u001b[38;5;241;43m*\u001b[39;49m\u001b[38;5;241;43m*\u001b[39;49m\u001b[43mkwargs\u001b[49m\u001b[43m)\u001b[49m\n\u001b[1;32m   1752\u001b[0m result \u001b[38;5;241m=\u001b[39m \u001b[38;5;28;01mNone\u001b[39;00m\n\u001b[1;32m   1753\u001b[0m called_always_called_hooks \u001b[38;5;241m=\u001b[39m \u001b[38;5;28mset\u001b[39m()\n",
      "File \u001b[0;32m~/dev_projects/ing/paper_transformer/model/attention.py:131\u001b[0m, in \u001b[0;36mMultiHeadAttention.forward\u001b[0;34m(self, Q, K, V, masks)\u001b[0m\n\u001b[1;32m    128\u001b[0m V \u001b[38;5;241m=\u001b[39m \u001b[38;5;28mself\u001b[39m\u001b[38;5;241m.\u001b[39msplit_head(\u001b[38;5;28mself\u001b[39m\u001b[38;5;241m.\u001b[39mW_V(V))\n\u001b[1;32m    130\u001b[0m \u001b[38;5;66;03m# Run through scaled dot-product attention.\u001b[39;00m\n\u001b[0;32m--> 131\u001b[0m v, _ \u001b[38;5;241m=\u001b[39m \u001b[38;5;28;43mself\u001b[39;49m\u001b[38;5;241;43m.\u001b[39;49m\u001b[43mscaled_dot_product_attention\u001b[49m\u001b[43m(\u001b[49m\u001b[43mQ\u001b[49m\u001b[43m,\u001b[49m\u001b[43m \u001b[49m\u001b[43mK\u001b[49m\u001b[43m,\u001b[49m\u001b[43m \u001b[49m\u001b[43mV\u001b[49m\u001b[43m,\u001b[49m\u001b[43m \u001b[49m\u001b[43mmasks\u001b[49m\u001b[43m)\u001b[49m\n\u001b[1;32m    133\u001b[0m \u001b[38;5;66;03m# Combine heads.\u001b[39;00m\n\u001b[1;32m    134\u001b[0m combined_v \u001b[38;5;241m=\u001b[39m \u001b[38;5;28mself\u001b[39m\u001b[38;5;241m.\u001b[39mconcatenate_heads(v)\n",
      "File \u001b[0;32m~/dev_projects/ing/paper_transformer/model/attention.py:85\u001b[0m, in \u001b[0;36mMultiHeadAttention.scaled_dot_product_attention\u001b[0;34m(self, Q, K, V, masks)\u001b[0m\n\u001b[1;32m     68\u001b[0m \u001b[38;5;28;01mdef\u001b[39;00m\u001b[38;5;250m \u001b[39m\u001b[38;5;21mscaled_dot_product_attention\u001b[39m(\n\u001b[1;32m     69\u001b[0m     \u001b[38;5;28mself\u001b[39m, Q: Tensor, K: Tensor, V: Tensor, masks: Tensor \u001b[38;5;241m=\u001b[39m \u001b[38;5;28;01mNone\u001b[39;00m\n\u001b[1;32m     70\u001b[0m ) \u001b[38;5;241m-\u001b[39m\u001b[38;5;241m>\u001b[39m Tuple[Tensor, Tensor]:\n\u001b[1;32m     71\u001b[0m \u001b[38;5;250m    \u001b[39m\u001b[38;5;124;03m\"\"\"Compute scaled dot-product attention as described in the paper.\u001b[39;00m\n\u001b[1;32m     72\u001b[0m \n\u001b[1;32m     73\u001b[0m \u001b[38;5;124;03m    Args:\u001b[39;00m\n\u001b[0;32m   (...)\u001b[0m\n\u001b[1;32m     82\u001b[0m \u001b[38;5;124;03m            - Attention weights of shape (batch_size, num_of_heads, seq_len, seq_len)\u001b[39;00m\n\u001b[1;32m     83\u001b[0m \u001b[38;5;124;03m    \"\"\"\u001b[39;00m\n\u001b[1;32m     84\u001b[0m     attn_scores \u001b[38;5;241m=\u001b[39m torch\u001b[38;5;241m.\u001b[39mmatmul(Q, K\u001b[38;5;241m.\u001b[39mtranspose(\u001b[38;5;241m-\u001b[39m\u001b[38;5;241m1\u001b[39m, \u001b[38;5;241m-\u001b[39m\u001b[38;5;241m2\u001b[39m)) \u001b[38;5;241m/\u001b[39m torch\u001b[38;5;241m.\u001b[39msqrt(\n\u001b[0;32m---> 85\u001b[0m         \u001b[43mtorch\u001b[49m\u001b[38;5;241;43m.\u001b[39;49m\u001b[43mtensor\u001b[49m\u001b[43m(\u001b[49m\u001b[38;5;28;43mself\u001b[39;49m\u001b[38;5;241;43m.\u001b[39;49m\u001b[43md_k\u001b[49m\u001b[43m,\u001b[49m\u001b[43m \u001b[49m\u001b[43mdtype\u001b[49m\u001b[38;5;241;43m=\u001b[39;49m\u001b[43mQ\u001b[49m\u001b[38;5;241;43m.\u001b[39;49m\u001b[43mdtype\u001b[49m\u001b[43m,\u001b[49m\u001b[43m \u001b[49m\u001b[43mdevice\u001b[49m\u001b[38;5;241;43m=\u001b[39;49m\u001b[43mQ\u001b[49m\u001b[38;5;241;43m.\u001b[39;49m\u001b[43mdevice\u001b[49m\u001b[43m)\u001b[49m\n\u001b[1;32m     86\u001b[0m     )\n\u001b[1;32m     88\u001b[0m     \u001b[38;5;28;01mif\u001b[39;00m masks \u001b[38;5;129;01mis\u001b[39;00m \u001b[38;5;129;01mnot\u001b[39;00m \u001b[38;5;28;01mNone\u001b[39;00m:\n\u001b[1;32m     89\u001b[0m         \u001b[38;5;66;03m# Apply masks to the attention weights.\u001b[39;00m\n\u001b[1;32m     90\u001b[0m         attn_scores \u001b[38;5;241m=\u001b[39m attn_scores\u001b[38;5;241m.\u001b[39mmasked_fill(\n\u001b[1;32m     91\u001b[0m             masks \u001b[38;5;241m==\u001b[39m \u001b[38;5;241m0\u001b[39m,\n\u001b[1;32m     92\u001b[0m             \u001b[38;5;28mfloat\u001b[39m(\u001b[38;5;124m\"\u001b[39m\u001b[38;5;124m-inf\u001b[39m\u001b[38;5;124m\"\u001b[39m),\n\u001b[1;32m     93\u001b[0m         )\n",
      "\u001b[0;31mKeyboardInterrupt\u001b[0m: "
     ]
    }
   ],
   "source": [
    "from tqdm import tqdm\n",
    "\n",
    "num_epochs = 1\n",
    "\n",
    "for epoch in range(num_epochs):\n",
    "    model.train()  # Set to training mode\n",
    "    total_loss = 0\n",
    "\n",
    "    for batch in tqdm(train_loader):\n",
    "        input_ids = batch[\"src_input_ids\"].to(device)\n",
    "        attention_mask = batch[\"src_attn_masks\"].to(device)\n",
    "        labels = batch[\"tgt_input_ids\"].to(device)\n",
    "        label_mask = batch[\"tgt_attn_masks\"].to(device)\n",
    "        causal_mask = generate_combined_target_mask(label_mask).to(device)\n",
    "\n",
    "        # Embed inputs and outputs using BERT (Batch-wise)\n",
    "        with torch.no_grad():\n",
    "            embedded_inputs = bert(input_ids, attention_mask=attention_mask).last_hidden_state\n",
    "            embedded_outputs = bert(labels, attention_mask=label_mask).last_hidden_state\n",
    "\n",
    "        # Forward pass through Transformer\n",
    "        outputs = model(\n",
    "            embedded_inputs, \n",
    "            embedded_outputs, \n",
    "            attention_mask.unsqueeze(1).unsqueeze(1), \n",
    "            causal_mask.unsqueeze(1),\n",
    "        )  # Customize tgt_masks as needed\n",
    "\n",
    "        # Compute loss (ignore padding tokens)\n",
    "        logits = outputs.view(-1, vocab_size)\n",
    "        labels = labels.view(-1)\n",
    "        loss = criterion(logits, labels)\n",
    "\n",
    "        # Backpropagation\n",
    "        optimizer.zero_grad()\n",
    "        loss.backward()\n",
    "        optimizer.step()\n",
    "\n",
    "        total_loss += loss.item()\n",
    "\n",
    "    # Log Epoch Progress\n",
    "    avg_loss = total_loss / len(train_loader)\n",
    "    print(f\"Epoch [{epoch+1}/{num_epochs}] - Loss: {avg_loss:.4f}\")\n",
    "\n",
    "# Save Model\n",
    "torch.save(model.state_dict(), \"transformer_model.pth\")\n",
    "print(\"✅ Training complete and model saved!\")\n"
   ]
  },
  {
   "cell_type": "code",
   "execution_count": null,
   "metadata": {},
   "outputs": [],
   "source": []
  }
 ],
 "metadata": {
  "kernelspec": {
   "display_name": "Python 3 (ipykernel)",
   "language": "python",
   "name": "python3"
  },
  "language_info": {
   "codemirror_mode": {
    "name": "ipython",
    "version": 3
   },
   "file_extension": ".py",
   "mimetype": "text/x-python",
   "name": "python",
   "nbconvert_exporter": "python",
   "pygments_lexer": "ipython3",
   "version": "3.9.21"
  }
 },
 "nbformat": 4,
 "nbformat_minor": 4
}
